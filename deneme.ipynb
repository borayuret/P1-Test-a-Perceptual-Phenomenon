import matplotlib.pyplot as plt
import pandas as pd

data = pd.read_csv('stroopdata.csv', sep=',',header=None)
data.values
print data
plt.bar(data[:,0], data[:,1], color='g')
plt.ylabel('Frequency')
plt.xlabel('Words')
plt.title('Title')

plt.show()
